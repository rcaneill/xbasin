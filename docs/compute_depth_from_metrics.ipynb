{
 "cells": [
  {
   "cell_type": "code",
   "execution_count": 1,
   "metadata": {},
   "outputs": [],
   "source": [
    "import xarray as xr\n",
    "import xgcm\n",
    "import numpy as np"
   ]
  },
  {
   "cell_type": "code",
   "execution_count": 2,
   "metadata": {},
   "outputs": [
    {
     "name": "stdout",
     "output_type": "stream",
     "text": [
      "<xarray.Dataset>\n",
      "Dimensions:        (axis_nbounds: 2, t: 1, x_c: 20, x_f: 20, y_c: 40, y_f: 40, z_c: 36, z_f: 36)\n",
      "Coordinates:\n",
      "  * z_f            (z_f) float64 -0.5 0.5 1.5 2.5 3.5 ... 31.5 32.5 33.5 34.5\n",
      "  * t              (t) object 1050-07-01 00:00:00\n",
      "  * x_c            (x_c) int64 0 1 2 3 4 5 6 7 8 9 10 11 12 13 14 15 16 17 18 19\n",
      "  * y_c            (y_c) int64 0 1 2 3 4 5 6 7 8 ... 31 32 33 34 35 36 37 38 39\n",
      "  * z_c            (z_c) int64 0 1 2 3 4 5 6 7 8 ... 27 28 29 30 31 32 33 34 35\n",
      "  * x_f            (x_f) float64 0.5 1.5 2.5 3.5 4.5 ... 16.5 17.5 18.5 19.5\n",
      "  * y_f            (y_f) float64 0.5 1.5 2.5 3.5 4.5 ... 36.5 37.5 38.5 39.5\n",
      "Dimensions without coordinates: axis_nbounds\n",
      "Data variables:\n",
      "    depthw_bounds  (z_f, axis_nbounds) float32 ...\n",
      "    t_bounds       (t, axis_nbounds) object ...\n",
      "    e3w            (t, z_f, y_c, x_c) float64 ...\n",
      "    woce           (t, z_f, y_c, x_c) float64 ...\n",
      "    deptht_bounds  (z_c, axis_nbounds) float32 ...\n",
      "    e3t            (t, z_c, y_c, x_c) float64 ...\n",
      "    thetao         (t, z_c, y_c, x_c) float64 ...\n",
      "    so             (t, z_c, y_c, x_c) float64 ...\n",
      "    tos            (t, y_c, x_c) float64 ...\n",
      "    zos            (t, y_c, x_c) float64 ...\n",
      "    depthu_bounds  (z_c, axis_nbounds) float32 ...\n",
      "    e3u            (t, z_c, y_c, x_f) float64 ...\n",
      "    uos            (t, y_c, x_f) float64 ...\n",
      "    uo             (t, z_c, y_c, x_f) float64 ...\n",
      "    depthv_bounds  (z_c, axis_nbounds) float32 ...\n",
      "    e3v            (t, z_c, y_f, x_c) float64 ...\n",
      "    vos            (t, y_f, x_c) float64 ...\n",
      "    vo             (t, z_c, y_f, x_c) float64 ...\n",
      "    nav_lon        (y_c, x_c) float32 ...\n",
      "    nav_lat        (y_c, x_c) float32 ...\n",
      "    jpiglo         int32 ...\n",
      "    jpjglo         int32 ...\n",
      "    jpkglo         int32 ...\n",
      "    jperio         int32 ...\n",
      "    ln_zco         int32 ...\n",
      "    ln_zps         int32 ...\n",
      "    ln_sco         int32 ...\n",
      "    ln_isfcav      int32 ...\n",
      "    glamt          (y_c, x_c) float64 ...\n",
      "    glamu          (y_c, x_f) float64 ...\n",
      "    glamv          (y_f, x_c) float64 ...\n",
      "    glamf          (y_f, x_f) float64 ...\n",
      "    gphit          (y_c, x_c) float64 ...\n",
      "    gphiu          (y_c, x_f) float64 ...\n",
      "    gphiv          (y_f, x_c) float64 ...\n",
      "    gphif          (y_f, x_f) float64 ...\n",
      "    e1t            (y_c, x_c) float64 ...\n",
      "    e1u            (y_c, x_f) float64 ...\n",
      "    e1v            (y_f, x_c) float64 ...\n",
      "    e1f            (y_f, x_f) float64 ...\n",
      "    e2t            (y_c, x_c) float64 ...\n",
      "    e2u            (y_c, x_f) float64 ...\n",
      "    e2v            (y_f, x_c) float64 ...\n",
      "    e2f            (y_f, x_f) float64 ...\n",
      "    ff_f           (y_f, x_f) float64 ...\n",
      "    ff_t           (y_c, x_c) float64 ...\n",
      "    e3t_1d         (z_c) float64 ...\n",
      "    e3w_1d         (z_f) float64 ...\n",
      "    e3t_0          (z_c, y_c, x_c) float64 ...\n",
      "    e3u_0          (z_c, y_c, x_f) float64 ...\n",
      "    e3v_0          (z_c, y_f, x_c) float64 ...\n",
      "    e3f_0          (z_c, y_f, x_f) float64 ...\n",
      "    e3w_0          (z_f, y_c, x_c) float64 ...\n",
      "    e3uw_0         (z_f, y_c, x_f) float64 ...\n",
      "    e3vw_0         (z_f, y_f, x_c) float64 ...\n",
      "    top_level      (y_c, x_c) float64 ...\n",
      "    bottom_level   (y_c, x_c) float64 ...\n",
      "    stiffness      (y_c, x_c) float64 ...\n",
      "    gdept_0        (z_c, y_c, x_c) float64 ...\n",
      "    gdepw_0        (z_f, y_c, x_c) float64 ...\n",
      "    ht_0           (y_c, x_c) float64 ...\n",
      "    hu_0           (y_c, x_f) float64 ...\n",
      "    hv_0           (y_f, x_c) float64 ...\n",
      "    tmask          (z_c, y_c, x_c) float64 ...\n",
      "    umask          (z_c, y_c, x_f) float64 ...\n",
      "    vmask          (z_c, y_f, x_c) float64 ...\n",
      "    fmask          (z_c, y_f, x_f) float64 ...\n",
      "    tmaskutil      (y_c, x_c) float64 ...\n",
      "    umaskutil      (y_c, x_f) float64 ...\n",
      "    vmaskutil      (y_f, x_c) float64 ...\n",
      "    mbathy         (y_c, x_c) float64 ...\n",
      "    misf           (y_c, x_c) float64 ...\n",
      "    isfdraft       (y_c, x_c) float64 ...\n",
      "    gdept_1d       (z_c) float64 ...\n",
      "    gdepw_1d       (z_f) float64 ...\n",
      "    fmaskutil      (y_f, x_f) float64 ...\n",
      "Attributes:\n",
      "    DOMAIN_number_total:     1\n",
      "    DOMAIN_number:           1\n",
      "    DOMAIN_dimensions_ids:   [1 2]\n",
      "    DOMAIN_size_global:      [20 40]\n",
      "    DOMAIN_size_local:       [20 40]\n",
      "    DOMAIN_position_first:   [1 1]\n",
      "    DOMAIN_position_last:    [20 40]\n",
      "    DOMAIN_halo_size_start:  [0 0]\n",
      "    DOMAIN_halo_size_end:    [0 0]\n",
      "    DOMAIN_type:             BOX\n",
      "    nn_cfg:                  2\n",
      "    cn_cfg:                  BASIN\n",
      "    name:                    NEMO dataset \n",
      "    description:             Ocean grid variables, set on the proper positions\n",
      "    title:                   Ocean grid variables\n"
     ]
    }
   ],
   "source": [
    "domcfg = xr.open_dataset('../xbasin/tests/data/nemo_full_dataset.nc')\n",
    "metrics = {\n",
    "    ('X',): ['e1t', 'e1u', 'e1v', 'e1f'],\n",
    "    ('Y',): ['e2t', 'e2u', 'e2v', 'e2f'],\n",
    "    ('Z',): ['e3t_0', 'e3u_0', 'e3v_0', 'e3f_0', 'e3w_0']\n",
    "}\n",
    "grid = xgcm.Grid(domcfg, metrics=metrics)\n",
    "print(domcfg)"
   ]
  },
  {
   "cell_type": "code",
   "execution_count": null,
   "metadata": {},
   "outputs": [],
   "source": []
  },
  {
   "cell_type": "code",
   "execution_count": 3,
   "metadata": {},
   "outputs": [
    {
     "data": {
      "text/html": [
       "<pre>&lt;xarray.DataArray ()&gt;\n",
       "array(True)</pre>"
      ],
      "text/plain": [
       "<xarray.DataArray ()>\n",
       "array(True)"
      ]
     },
     "execution_count": 3,
     "metadata": {},
     "output_type": "execute_result"
    }
   ],
   "source": [
    "# We have data at a certain point\n",
    "da = domcfg.e3t_0.copy(deep=True)\n",
    "\n",
    "# We compute the depths by getting the vertical scale factor\n",
    "e3 = grid.get_metric(da, 'Z')\n",
    "depths = grid.cumsum(e3, axis='Z', boundary='fill', fill_value=0)\n",
    "\n",
    "# Just to check that it is correct\n",
    "(depths == domcfg.gdepw_0).all()"
   ]
  },
  {
   "cell_type": "code",
   "execution_count": 4,
   "metadata": {},
   "outputs": [
    {
     "name": "stdout",
     "output_type": "stream",
     "text": [
      "Coordinates:\n",
      "  * z_f      (z_f) float64 -0.5 0.5 1.5 2.5 3.5 4.5 ... 30.5 31.5 32.5 33.5 34.5\n",
      "  * x_c      (x_c) int64 0 1 2 3 4 5 6 7 8 9 10 11 12 13 14 15 16 17 18 19\n",
      "  * y_c      (y_c) int64 0 1 2 3 4 5 6 7 8 9 ... 30 31 32 33 34 35 36 37 38 39\n",
      "<xarray.DataArray ()>\n",
      "array(4.54747351e-13)\n",
      "<xarray.DataArray ()>\n",
      "array(6)\n"
     ]
    }
   ],
   "source": [
    "# We have data at a certain point\n",
    "da = domcfg.e3w_0.copy(deep=True)\n",
    "\n",
    "# We compute the depths by getting the vertical scale factor\n",
    "e3 = grid.get_metric(da, 'Z')\n",
    "print(e3.coords)\n",
    "depths = grid.cumsum(e3, axis='Z', boundary='fill', fill_value=0) - e3.isel({'z_f':0}).drop_vars('z_f')/2\n",
    "\n",
    "# Just to check that it is correct\n",
    "print(np.abs(depths - domcfg.gdept_0).max())\n",
    "print((depths - domcfg.gdept_0 != 0).sum())"
   ]
  },
  {
   "cell_type": "code",
   "execution_count": 5,
   "metadata": {},
   "outputs": [],
   "source": [
    "z = grid.axes['Z']"
   ]
  },
  {
   "cell_type": "code",
   "execution_count": 6,
   "metadata": {},
   "outputs": [
    {
     "data": {
      "text/plain": [
       "('left', 'z_f')"
      ]
     },
     "execution_count": 6,
     "metadata": {},
     "output_type": "execute_result"
    }
   ],
   "source": [
    "z._get_axis_coord(da)"
   ]
  },
  {
   "cell_type": "code",
   "execution_count": 7,
   "metadata": {},
   "outputs": [],
   "source": [
    "def compute_depth_of_shifted_array(grid, da, axis):\n",
    "    # start to get the position of the data array\n",
    "    axe = grid.axes[axis]\n",
    "    (old_pos, old_dim) = axe._get_axis_coord(da)\n",
    "    new_pos = axe._default_shifts[old_pos]\n",
    "    assert (old_pos not in ['inner', 'outer']) and (new_pos not in ['inner', 'outer'])\n",
    "    new_dim = axe.coords[new_pos]\n",
    "    e3 = grid.get_metric(da, axes=axis)\n",
    "    depths = grid.cumsum(e3, axis='Z', boundary='fill', fill_value=0)\n",
    "    # If the shifted position is a center point, we need to remove half of the upper scale factor to get the depth\n",
    "    if new_pos == 'center':\n",
    "        depths -= e3.isel({old_dim:0}).drop_vars(old_dim)/2\n",
    "    return depths\n",
    "\n",
    "deptht = compute_depth_of_shifted_array(grid, domcfg.e3w_0, 'Z')\n",
    "depthw = compute_depth_of_shifted_array(grid, domcfg.e3t_0, 'Z')\n",
    "depthuw = compute_depth_of_shifted_array(grid, domcfg.e3u_0, 'Z')\n",
    "depthvw = compute_depth_of_shifted_array(grid, domcfg.e3v_0, 'Z')\n",
    "depthfw = compute_depth_of_shifted_array(grid, domcfg.e3f_0, 'Z')\n",
    "\n",
    "assert (depthw == domcfg.gdepw_0).all()\n",
    "assert (deptht - domcfg.gdept_0 <= 1e-12).all() # error of 1e-13 on some points"
   ]
  },
  {
   "cell_type": "code",
   "execution_count": 8,
   "metadata": {},
   "outputs": [
    {
     "data": {
      "text/html": [
       "<pre>&lt;xarray.DataArray ()&gt;\n",
       "array(9.09494702e-13)</pre>"
      ],
      "text/plain": [
       "<xarray.DataArray ()>\n",
       "array(9.09494702e-13)"
      ]
     },
     "execution_count": 8,
     "metadata": {},
     "output_type": "execute_result"
    }
   ],
   "source": [
    "(depthuw - grid.interp(depthw, axis='X'))[:,1:-1,1:-1].max()"
   ]
  },
  {
   "cell_type": "code",
   "execution_count": 9,
   "metadata": {},
   "outputs": [
    {
     "data": {
      "text/html": [
       "<pre>&lt;xarray.DataArray ()&gt;\n",
       "array(9.09494702e-13)</pre>"
      ],
      "text/plain": [
       "<xarray.DataArray ()>\n",
       "array(9.09494702e-13)"
      ]
     },
     "execution_count": 9,
     "metadata": {},
     "output_type": "execute_result"
    }
   ],
   "source": [
    "(depthuw - grid.interp(depthw, axis='X'))[:,1:-1,1:-1].max()"
   ]
  }
 ],
 "metadata": {
  "kernelspec": {
   "display_name": "Python 3",
   "language": "python",
   "name": "python3"
  },
  "language_info": {
   "codemirror_mode": {
    "name": "ipython",
    "version": 3
   },
   "file_extension": ".py",
   "mimetype": "text/x-python",
   "name": "python",
   "nbconvert_exporter": "python",
   "pygments_lexer": "ipython3",
   "version": "3.6.9"
  }
 },
 "nbformat": 4,
 "nbformat_minor": 4
}
