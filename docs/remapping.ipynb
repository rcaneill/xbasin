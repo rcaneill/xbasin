{
 "cells": [
  {
   "cell_type": "markdown",
   "metadata": {},
   "source": [
    "# Conservative remapping"
   ]
  },
  {
   "cell_type": "code",
   "execution_count": 1,
   "metadata": {},
   "outputs": [],
   "source": [
    "import xgcm\n",
    "import xarray as xr\n",
    "import numpy as np\n",
    "import xbasin"
   ]
  },
  {
   "cell_type": "markdown",
   "metadata": {},
   "source": [
    "We open the example data and create 2 grids: 1 for the dataset we have and 1 for the remapped one.\n",
    "Here '_fr' means *from* and '_to' *to* (i.e. remapped data)."
   ]
  },
  {
   "cell_type": "code",
   "execution_count": 2,
   "metadata": {},
   "outputs": [
    {
     "name": "stdout",
     "output_type": "stream",
     "text": [
      "<xarray.Dataset>\n",
      "Dimensions:        (axis_nbounds: 2, t: 5, x_c: 21, x_f: 21, y_c: 40, y_f: 40, z_c: 36, z_f: 36)\n",
      "Coordinates:\n",
      "  * z_f            (z_f) float64 -0.5 0.5 1.5 2.5 3.5 ... 31.5 32.5 33.5 34.5\n",
      "  * t              (t) object 7756-01-01 00:00:00 ... 7796-01-01 00:00:00\n",
      "  * x_c            (x_c) int64 0 1 2 3 4 5 6 7 8 ... 12 13 14 15 16 17 18 19 20\n",
      "  * y_c            (y_c) int64 0 1 2 3 4 5 6 7 8 ... 31 32 33 34 35 36 37 38 39\n",
      "  * z_c            (z_c) int64 0 1 2 3 4 5 6 7 8 ... 27 28 29 30 31 32 33 34 35\n",
      "  * x_f            (x_f) float64 0.5 1.5 2.5 3.5 4.5 ... 17.5 18.5 19.5 20.5\n",
      "  * y_f            (y_f) float64 0.5 1.5 2.5 3.5 4.5 ... 36.5 37.5 38.5 39.5\n",
      "Dimensions without coordinates: axis_nbounds\n",
      "Data variables:\n",
      "    depthw_bounds  (z_f, axis_nbounds) float32 ...\n",
      "    t_bounds       (t, axis_nbounds) object ...\n",
      "    woce           (t, z_f, y_c, x_c) float32 ...\n",
      "    e3w            (t, z_f, y_c, x_c) float32 ...\n",
      "    deptht_bounds  (z_c, axis_nbounds) float32 ...\n",
      "    e3t            (t, z_c, y_c, x_c) float32 ...\n",
      "    thetao         (t, z_c, y_c, x_c) float64 0.0 24.28 24.15 ... 0.0 0.0 0.0\n",
      "    so             (t, z_c, y_c, x_c) float32 ...\n",
      "    rhop           (t, z_c, y_c, x_c) float32 ...\n",
      "    tos            (t, y_c, x_c) float32 ...\n",
      "    sos            (t, y_c, x_c) float32 ...\n",
      "    zos            (t, y_c, x_c) float32 ...\n",
      "    bn2            (t, z_c, y_c, x_c) float32 ...\n",
      "    mldr10_1       (t, y_c, x_c) float32 ...\n",
      "    relvor         (t, z_c, y_c, x_c) float32 ...\n",
      "    qsr            (t, y_c, x_c) float32 ...\n",
      "    qns            (t, y_c, x_c) float32 ...\n",
      "    empmr          (t, y_c, x_c) float32 ...\n",
      "    qt             (t, y_c, x_c) float32 ...\n",
      "    saltflx        (t, y_c, x_c) float32 ...\n",
      "    botpres        (t, y_c, x_c) float32 ...\n",
      "    depthu_bounds  (z_c, axis_nbounds) float32 ...\n",
      "    e3u            (t, z_c, y_c, x_f) float32 ...\n",
      "    uos            (t, y_c, x_f) float32 ...\n",
      "    uo             (t, z_c, y_c, x_f) float32 ...\n",
      "    depthv_bounds  (z_c, axis_nbounds) float32 ...\n",
      "    e3v            (t, z_c, y_f, x_c) float32 ...\n",
      "    vos            (t, y_f, x_c) float32 ...\n",
      "    vo             (t, z_c, y_f, x_c) float32 ...\n",
      "    nav_lon        (y_c, x_c) float32 ...\n",
      "    nav_lat        (y_c, x_c) float32 ...\n",
      "    jpiglo         int32 ...\n",
      "    jpjglo         int32 ...\n",
      "    jpkglo         int32 ...\n",
      "    jperio         int32 ...\n",
      "    ln_zco         int32 ...\n",
      "    ln_zps         int32 ...\n",
      "    ln_sco         int32 ...\n",
      "    ln_isfcav      int32 ...\n",
      "    glamt          (y_c, x_c) float64 ...\n",
      "    glamu          (y_c, x_f) float64 ...\n",
      "    glamv          (y_f, x_c) float64 ...\n",
      "    glamf          (y_f, x_f) float64 ...\n",
      "    gphit          (y_c, x_c) float64 ...\n",
      "    gphiu          (y_c, x_f) float64 ...\n",
      "    gphiv          (y_f, x_c) float64 ...\n",
      "    gphif          (y_f, x_f) float64 ...\n",
      "    e1t            (y_c, x_c) float64 ...\n",
      "    e1u            (y_c, x_f) float64 ...\n",
      "    e1v            (y_f, x_c) float64 ...\n",
      "    e1f            (y_f, x_f) float64 ...\n",
      "    e2t            (y_c, x_c) float64 ...\n",
      "    e2u            (y_c, x_f) float64 ...\n",
      "    e2v            (y_f, x_c) float64 ...\n",
      "    e2f            (y_f, x_f) float64 ...\n",
      "    ff_f           (y_f, x_f) float64 ...\n",
      "    ff_t           (y_c, x_c) float64 ...\n",
      "    e3t_1d         (z_c) float64 ...\n",
      "    e3w_1d         (z_f) float64 ...\n",
      "    e3t_0          (z_c, y_c, x_c) float64 ...\n",
      "    e3u_0          (z_c, y_c, x_f) float64 ...\n",
      "    e3v_0          (z_c, y_f, x_c) float64 ...\n",
      "    e3f_0          (z_c, y_f, x_f) float64 ...\n",
      "    e3w_0          (z_f, y_c, x_c) float64 ...\n",
      "    e3uw_0         (z_f, y_c, x_f) float64 ...\n",
      "    e3vw_0         (z_f, y_f, x_c) float64 ...\n",
      "    top_level      (y_c, x_c) float64 ...\n",
      "    bottom_level   (y_c, x_c) float64 ...\n",
      "    stiffness      (y_c, x_c) float64 ...\n",
      "    gdept_0        (z_c, y_c, x_c) float64 ...\n",
      "    gdepw_0        (z_f, y_c, x_c) float64 ...\n",
      "    ht_0           (y_c, x_c) float64 ...\n",
      "    hu_0           (y_c, x_f) float64 ...\n",
      "    hv_0           (y_f, x_c) float64 ...\n",
      "    tmask          (z_c, y_c, x_c) float64 ...\n",
      "    umask          (z_c, y_c, x_f) float64 ...\n",
      "    vmask          (z_c, y_f, x_c) float64 ...\n",
      "    fmask          (z_c, y_f, x_f) float64 ...\n",
      "    tmaskutil      (y_c, x_c) float64 ...\n",
      "    umaskutil      (y_c, x_f) float64 ...\n",
      "    vmaskutil      (y_f, x_c) float64 ...\n",
      "    mbathy         (y_c, x_c) float64 ...\n",
      "    misf           (y_c, x_c) float64 ...\n",
      "    isfdraft       (y_c, x_c) float64 ...\n",
      "    gdept_1d       (z_c) float64 ...\n",
      "    gdepw_1d       (z_f) float64 ...\n",
      "    fmaskutil      (y_f, x_f) float64 ...\n"
     ]
    }
   ],
   "source": [
    "ds = xr.open_dataset('data/nemo_output_ex.nc')\n",
    "\n",
    "from xnemogcm import open_nemo_and_domain_cfg\n",
    "ds = open_nemo_and_domain_cfg(datadir='/home/romain/Documents/Education/PhD/Courses/2019-OC6310/Project/Experiments/EXP_eos00/Rawdata')\n",
    "\n",
    "metrics_fr = {\n",
    "    ('X',): ['e1t', 'e1u', 'e1v', 'e1f'],\n",
    "    ('Y',): ['e2t', 'e2u', 'e2v', 'e2f'],\n",
    "    ('Z',): ['e3t', 'e3u', 'e3v', 'e3w']\n",
    "}\n",
    "metrics_to = {\n",
    "    ('X',): ['e1t', 'e1u', 'e1v', 'e1f'],\n",
    "    ('Y',): ['e2t', 'e2u', 'e2v', 'e2f'],\n",
    "    ('Z',): ['e3t_1d', 'e3w_1d']\n",
    "}\n",
    "grid_fr = xgcm.Grid(ds, periodic=False, metrics=metrics_fr)\n",
    "grid_to = xgcm.Grid(ds, periodic=False, metrics=metrics_to)\n",
    "\n",
    "# Convert the thetao float32 to float64 for more precision\n",
    "ds.thetao.values = ds.thetao.values.astype(np.float64)\n",
    "\n",
    "print(ds)"
   ]
  },
  {
   "cell_type": "markdown",
   "metadata": {},
   "source": [
    "We remap"
   ]
  },
  {
   "cell_type": "code",
   "execution_count": 3,
   "metadata": {},
   "outputs": [
    {
     "name": "stdout",
     "output_type": "stream",
     "text": [
      "Coordinates:\n",
      "  * z_c      (z_c) int64 0 1 2 3 4 5 6 7 8 9 ... 26 27 28 29 30 31 32 33 34 35\n",
      "  * t        (t) object 7756-01-01 00:00:00 ... 7796-01-01 00:00:00\n",
      "  * x_c      (x_c) int64 0 1 2 3 4 5 6 7 8 9 10 11 12 13 14 15 16 17 18 19 20\n",
      "  * y_c      (y_c) int64 0 1 2 3 4 5 6 7 8 9 ... 30 31 32 33 34 35 36 37 38 39\n"
     ]
    }
   ],
   "source": [
    "theta_to = xbasin.remap_vertical(ds.thetao, grid_fr, grid_to, axis='Z')\n",
    "print(theta_to.coords)"
   ]
  },
  {
   "cell_type": "markdown",
   "metadata": {},
   "source": [
    "The total heat content is conserved:"
   ]
  },
  {
   "cell_type": "code",
   "execution_count": 4,
   "metadata": {},
   "outputs": [
    {
     "data": {
      "text/html": [
       "<pre>&lt;xarray.DataArray ()&gt;\n",
       "array(True)</pre>"
      ],
      "text/plain": [
       "<xarray.DataArray ()>\n",
       "array(True)"
      ]
     },
     "execution_count": 4,
     "metadata": {},
     "output_type": "execute_result"
    }
   ],
   "source": [
    "hc_fr = grid_fr.integrate(ds.thetao, axis='Z')\n",
    "hc_to = grid_to.integrate(theta_to, axis='Z')\n",
    "\n",
    "(hc_fr == hc_to).all()"
   ]
  },
  {
   "cell_type": "markdown",
   "metadata": {},
   "source": [
    "## Time comparison\n",
    "\n",
    "The heart function of the remapping is computed from python to C++ with pythran, which improves the speed. However if pythran is not installed, the original python function is called instead.\n",
    "As a user, you should not use the 2 following functions, they are only shown here for the time comparison."
   ]
  },
  {
   "cell_type": "code",
   "execution_count": 5,
   "metadata": {},
   "outputs": [],
   "source": [
    "fake_dataset = [\n",
    "    np.ascontiguousarray(ds.gdept_0.values.reshape(ds.gdept_0.values.shape+(1,))),\n",
    "    np.ascontiguousarray(ds.gdepw_0.values.reshape(ds.gdepw_0.values.shape+(1,))),\n",
    "    np.ascontiguousarray(ds.thetao.transpose('z_c', 'y_c', 'x_c', 't').values.flatten().reshape(ds.thetao.transpose('z_c', 'y_c', 'x_c', 't').shape)[...,0:1])\n",
    "]\n",
    "from xbasin._interpolation import interp_new_vertical as _interpolation_pure_python\n",
    "from xbasin.interpolation_compiled import interp_new_vertical as _interpolation_pythran"
   ]
  },
  {
   "cell_type": "markdown",
   "metadata": {},
   "source": [
    "### Pure Python"
   ]
  },
  {
   "cell_type": "code",
   "execution_count": 6,
   "metadata": {},
   "outputs": [
    {
     "name": "stdout",
     "output_type": "stream",
     "text": [
      "130 ms ± 3.46 ms per loop (mean ± std. dev. of 7 runs, 10 loops each)\n"
     ]
    }
   ],
   "source": [
    "%timeit _interpolation_pure_python(*fake_dataset)"
   ]
  },
  {
   "cell_type": "markdown",
   "metadata": {},
   "source": [
    "### Pythran"
   ]
  },
  {
   "cell_type": "code",
   "execution_count": 7,
   "metadata": {},
   "outputs": [
    {
     "name": "stdout",
     "output_type": "stream",
     "text": [
      "3.01 ms ± 156 µs per loop (mean ± std. dev. of 7 runs, 100 loops each)\n"
     ]
    }
   ],
   "source": [
    "%timeit _interpolation_pythran(*fake_dataset)"
   ]
  },
  {
   "cell_type": "markdown",
   "metadata": {},
   "source": [
    "We see that the compiled version runs about 10-100 times faster (of course this number is just a rough approximation). The pure Python version does not use vectorized arrays and is thus slower."
   ]
  }
 ],
 "metadata": {
  "kernelspec": {
   "display_name": "Python 3",
   "language": "python",
   "name": "python3"
  },
  "language_info": {
   "codemirror_mode": {
    "name": "ipython",
    "version": 3
   },
   "file_extension": ".py",
   "mimetype": "text/x-python",
   "name": "python",
   "nbconvert_exporter": "python",
   "pygments_lexer": "ipython3",
   "version": "3.6.9"
  }
 },
 "nbformat": 4,
 "nbformat_minor": 4
}
